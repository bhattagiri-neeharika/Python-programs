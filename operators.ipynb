{
  "nbformat": 4,
  "nbformat_minor": 0,
  "metadata": {
    "colab": {
      "provenance": []
    },
    "kernelspec": {
      "name": "python3",
      "display_name": "Python 3"
    },
    "language_info": {
      "name": "python"
    }
  },
  "cells": [
    {
      "cell_type": "code",
      "execution_count": null,
      "metadata": {
        "colab": {
          "base_uri": "https://localhost:8080/"
        },
        "id": "f4_tqheEf40I",
        "outputId": "65bc70ea-cabd-4ff5-a1b8-87c841e2ad5e"
      },
      "outputs": [
        {
          "output_type": "execute_result",
          "data": {
            "text/plain": [
              "35"
            ]
          },
          "metadata": {},
          "execution_count": 1
        }
      ],
      "source": [
        "a=10\n",
        "b=25\n",
        "a+b"
      ]
    },
    {
      "cell_type": "code",
      "source": [
        "a=10\n",
        "b=25\n",
        "a-b"
      ],
      "metadata": {
        "colab": {
          "base_uri": "https://localhost:8080/"
        },
        "id": "w0GccK5igCB0",
        "outputId": "bea3ad7e-9337-46f6-cbea-4f1a7f9c7e59"
      },
      "execution_count": null,
      "outputs": [
        {
          "output_type": "execute_result",
          "data": {
            "text/plain": [
              "-15"
            ]
          },
          "metadata": {},
          "execution_count": 2
        }
      ]
    },
    {
      "cell_type": "code",
      "source": [
        "a=10\n",
        "b=25\n",
        "a*b"
      ],
      "metadata": {
        "colab": {
          "base_uri": "https://localhost:8080/"
        },
        "id": "NQBeH6v9gKm1",
        "outputId": "3d35abe6-da37-4d5a-9120-a89fc18b16b7"
      },
      "execution_count": null,
      "outputs": [
        {
          "output_type": "execute_result",
          "data": {
            "text/plain": [
              "250"
            ]
          },
          "metadata": {},
          "execution_count": 3
        }
      ]
    },
    {
      "cell_type": "code",
      "source": [
        "a=10\n",
        "b=25\n",
        "a/b"
      ],
      "metadata": {
        "colab": {
          "base_uri": "https://localhost:8080/"
        },
        "id": "1HFjsu1PgMaD",
        "outputId": "8472da96-e6c5-451b-d896-457e7d5777f8"
      },
      "execution_count": null,
      "outputs": [
        {
          "output_type": "execute_result",
          "data": {
            "text/plain": [
              "0.4"
            ]
          },
          "metadata": {},
          "execution_count": 4
        }
      ]
    },
    {
      "cell_type": "code",
      "source": [
        "a=10\n",
        "b=25\n",
        "a%b"
      ],
      "metadata": {
        "colab": {
          "base_uri": "https://localhost:8080/"
        },
        "id": "JtN-tbpIgOJa",
        "outputId": "1b404fe0-34b8-4602-de9c-3ce79dc44b4e"
      },
      "execution_count": null,
      "outputs": [
        {
          "output_type": "execute_result",
          "data": {
            "text/plain": [
              "10"
            ]
          },
          "metadata": {},
          "execution_count": 5
        }
      ]
    },
    {
      "cell_type": "code",
      "source": [
        "print(\"addition\",+a+b)"
      ],
      "metadata": {
        "colab": {
          "base_uri": "https://localhost:8080/"
        },
        "id": "ua0jchqUgQYy",
        "outputId": "8821cc4f-dac8-4212-d95f-9bff2fdf20bb"
      },
      "execution_count": null,
      "outputs": [
        {
          "output_type": "stream",
          "name": "stdout",
          "text": [
            "addition 35\n"
          ]
        }
      ]
    },
    {
      "cell_type": "code",
      "source": [
        "d=7425.0\n",
        "s=550.0\n",
        "t=d/s\n",
        "print(t)"
      ],
      "metadata": {
        "colab": {
          "base_uri": "https://localhost:8080/"
        },
        "id": "A8w3Whosgvve",
        "outputId": "0b9ffc66-fbf0-4c43-c245-ae5bd71bb7ad"
      },
      "execution_count": null,
      "outputs": [
        {
          "output_type": "stream",
          "name": "stdout",
          "text": [
            "13.5\n"
          ]
        }
      ]
    },
    {
      "cell_type": "code",
      "source": [
        "a=50\n",
        "b=50*20/100\n",
        "print(b)"
      ],
      "metadata": {
        "colab": {
          "base_uri": "https://localhost:8080/"
        },
        "id": "3gvxo8Mlhx9D",
        "outputId": "8f7a1280-ab0b-4900-f8ad-35317c7fd677"
      },
      "execution_count": null,
      "outputs": [
        {
          "output_type": "stream",
          "name": "stdout",
          "text": [
            "10.0\n"
          ]
        }
      ]
    },
    {
      "cell_type": "code",
      "source": [
        "a=2000\n",
        "b=a*20/100\n",
        "print(b)"
      ],
      "metadata": {
        "colab": {
          "base_uri": "https://localhost:8080/"
        },
        "id": "Rl44GMqfjRYt",
        "outputId": "90adab66-9e14-4ad1-bdc2-4f8974a0ee7e"
      },
      "execution_count": null,
      "outputs": [
        {
          "output_type": "stream",
          "name": "stdout",
          "text": [
            "400.0\n"
          ]
        }
      ]
    },
    {
      "cell_type": "code",
      "source": [
        "a=53000\n",
        "b=a*40/100\n",
        "print(b)"
      ],
      "metadata": {
        "colab": {
          "base_uri": "https://localhost:8080/"
        },
        "id": "57TukXbAjflH",
        "outputId": "2c48e71e-859c-4461-e4dd-3b94db0c5b0c"
      },
      "execution_count": null,
      "outputs": [
        {
          "output_type": "stream",
          "name": "stdout",
          "text": [
            "21200.0\n"
          ]
        }
      ]
    },
    {
      "cell_type": "code",
      "source": [
        "bill=int(input())\n",
        "tip=20/100*bill\n",
        "print(tip)"
      ],
      "metadata": {
        "colab": {
          "base_uri": "https://localhost:8080/"
        },
        "id": "56bsAdyWjuHA",
        "outputId": "efd951ea-a40d-4991-f6a7-bc98084ff6a9"
      },
      "execution_count": null,
      "outputs": [
        {
          "output_type": "stream",
          "name": "stdout",
          "text": [
            "500\n",
            "100.0\n"
          ]
        }
      ]
    },
    {
      "cell_type": "code",
      "source": [
        "bill=int(input())\n",
        "tip=20/100*bill\n",
        "print(tip)"
      ],
      "metadata": {
        "colab": {
          "base_uri": "https://localhost:8080/"
        },
        "id": "UGGqi3-Lky8I",
        "outputId": "ae032b66-9145-4fd2-bd06-983af14cfc62"
      },
      "execution_count": null,
      "outputs": [
        {
          "output_type": "stream",
          "name": "stdout",
          "text": [
            "125\n",
            "25.0\n"
          ]
        }
      ]
    },
    {
      "cell_type": "code",
      "source": [
        "bill=int(input())\n",
        "tip=20/100*bill\n",
        "print(tip)"
      ],
      "metadata": {
        "colab": {
          "base_uri": "https://localhost:8080/"
        },
        "id": "Y1BtRMARlHyG",
        "outputId": "bf451b92-e02e-45b7-f0f3-01631cf89f10"
      },
      "execution_count": null,
      "outputs": [
        {
          "output_type": "stream",
          "name": "stdout",
          "text": [
            "1024\n",
            "204.8\n"
          ]
        }
      ]
    },
    {
      "cell_type": "code",
      "source": [
        "bill=float(input())\n",
        "tip=20/100*bill\n",
        "print(tip)"
      ],
      "metadata": {
        "colab": {
          "base_uri": "https://localhost:8080/"
        },
        "id": "aFjku9N2lJur",
        "outputId": "570fcc5b-602c-45a0-923c-241adc5bc618"
      },
      "execution_count": null,
      "outputs": [
        {
          "output_type": "stream",
          "name": "stdout",
          "text": [
            "25.0\n",
            "5.0\n"
          ]
        }
      ]
    },
    {
      "cell_type": "code",
      "source": [
        "bill=float(input())\n",
        "tip=20/100*bill\n",
        "print(tip)"
      ],
      "metadata": {
        "colab": {
          "base_uri": "https://localhost:8080/"
        },
        "id": "DhkfBH67lNBC",
        "outputId": "90826e63-f4ad-44a2-c545-c78f829f17a6"
      },
      "execution_count": null,
      "outputs": [
        {
          "output_type": "stream",
          "name": "stdout",
          "text": [
            "204.8\n",
            "40.96000000000001\n"
          ]
        }
      ]
    },
    {
      "cell_type": "code",
      "source": [
        "a=10\n",
        "b=20\n",
        "a<b"
      ],
      "metadata": {
        "colab": {
          "base_uri": "https://localhost:8080/"
        },
        "id": "lY09i3n7lVR1",
        "outputId": "b7aa8a67-5478-414f-82ff-714da13b1355"
      },
      "execution_count": null,
      "outputs": [
        {
          "output_type": "execute_result",
          "data": {
            "text/plain": [
              "True"
            ]
          },
          "metadata": {},
          "execution_count": 25
        }
      ]
    },
    {
      "cell_type": "code",
      "source": [
        "a>b"
      ],
      "metadata": {
        "colab": {
          "base_uri": "https://localhost:8080/"
        },
        "id": "C50AYviWmGQk",
        "outputId": "4ddde8d5-2b7a-4e59-9011-1f70c840805f"
      },
      "execution_count": null,
      "outputs": [
        {
          "output_type": "execute_result",
          "data": {
            "text/plain": [
              "False"
            ]
          },
          "metadata": {},
          "execution_count": 26
        }
      ]
    },
    {
      "cell_type": "code",
      "source": [
        "a==b"
      ],
      "metadata": {
        "colab": {
          "base_uri": "https://localhost:8080/"
        },
        "id": "cDMe6vComH9l",
        "outputId": "9d4f0574-845b-49e5-d955-157323d2a4af"
      },
      "execution_count": null,
      "outputs": [
        {
          "output_type": "execute_result",
          "data": {
            "text/plain": [
              "False"
            ]
          },
          "metadata": {},
          "execution_count": 27
        }
      ]
    },
    {
      "cell_type": "code",
      "source": [
        "a<=b"
      ],
      "metadata": {
        "colab": {
          "base_uri": "https://localhost:8080/"
        },
        "id": "iaS2ZZgJmI6z",
        "outputId": "e997ae41-d51a-4ea2-b03b-78826a84b6b8"
      },
      "execution_count": null,
      "outputs": [
        {
          "output_type": "execute_result",
          "data": {
            "text/plain": [
              "True"
            ]
          },
          "metadata": {},
          "execution_count": 28
        }
      ]
    },
    {
      "cell_type": "code",
      "source": [
        "a>=b"
      ],
      "metadata": {
        "colab": {
          "base_uri": "https://localhost:8080/"
        },
        "id": "2hsJp1tWmLoV",
        "outputId": "a3084138-ef55-40a0-b143-90ee09694aaa"
      },
      "execution_count": null,
      "outputs": [
        {
          "output_type": "execute_result",
          "data": {
            "text/plain": [
              "False"
            ]
          },
          "metadata": {},
          "execution_count": 29
        }
      ]
    },
    {
      "cell_type": "code",
      "source": [
        "a>b,a<b"
      ],
      "metadata": {
        "colab": {
          "base_uri": "https://localhost:8080/"
        },
        "id": "5CmHtDC9mMuk",
        "outputId": "7daffecc-0093-499e-d663-90827c21bd3c"
      },
      "execution_count": null,
      "outputs": [
        {
          "output_type": "execute_result",
          "data": {
            "text/plain": [
              "(False, True)"
            ]
          },
          "metadata": {},
          "execution_count": 30
        }
      ]
    },
    {
      "cell_type": "code",
      "source": [
        "print(a>b,a<b,a==b,a<=b,a>=b)"
      ],
      "metadata": {
        "colab": {
          "base_uri": "https://localhost:8080/"
        },
        "id": "0r9WE1CLm9w9",
        "outputId": "7fd683e0-0f93-4d67-86dd-f6048b3e8174"
      },
      "execution_count": null,
      "outputs": [
        {
          "output_type": "stream",
          "name": "stdout",
          "text": [
            "False True False True False\n"
          ]
        }
      ]
    },
    {
      "cell_type": "code",
      "source": [
        "a=True\n",
        "b=False\n",
        "print(a and b)\n",
        "print(a or b)\n",
        "print(not a)"
      ],
      "metadata": {
        "colab": {
          "base_uri": "https://localhost:8080/"
        },
        "id": "9do2w44jnMIv",
        "outputId": "2175917f-aafd-4719-c34c-26f03e8ba80f"
      },
      "execution_count": null,
      "outputs": [
        {
          "output_type": "stream",
          "name": "stdout",
          "text": [
            "False\n",
            "True\n",
            "False\n"
          ]
        }
      ]
    },
    {
      "cell_type": "code",
      "source": [
        "a=10\n",
        "b=a\n",
        "print(b)"
      ],
      "metadata": {
        "colab": {
          "base_uri": "https://localhost:8080/"
        },
        "id": "htDVBndHn1Q0",
        "outputId": "d20cfc45-69f3-436a-abc4-da9508c5d7ff"
      },
      "execution_count": null,
      "outputs": [
        {
          "output_type": "stream",
          "name": "stdout",
          "text": [
            "10\n"
          ]
        }
      ]
    },
    {
      "cell_type": "code",
      "source": [
        "b+=a\n",
        "print(b)"
      ],
      "metadata": {
        "colab": {
          "base_uri": "https://localhost:8080/"
        },
        "id": "kVTFWRmEoR0Y",
        "outputId": "8caaf29d-7ba1-4e96-9b56-9ffce2b9c5d9"
      },
      "execution_count": null,
      "outputs": [
        {
          "output_type": "stream",
          "name": "stdout",
          "text": [
            "102400\n"
          ]
        }
      ]
    },
    {
      "cell_type": "code",
      "source": [
        "b-=a\n",
        "print(b)\n",
        "b*=a\n",
        "print(b)\n",
        "b<<=a\n",
        "print(b)"
      ],
      "metadata": {
        "colab": {
          "base_uri": "https://localhost:8080/"
        },
        "id": "hYF9Pae-oWAh",
        "outputId": "a79b012c-1194-4b2a-f83a-85bc9adbf346"
      },
      "execution_count": null,
      "outputs": [
        {
          "output_type": "stream",
          "name": "stdout",
          "text": [
            "10\n",
            "100\n",
            "102400\n"
          ]
        }
      ]
    },
    {
      "cell_type": "code",
      "source": [
        "b-=a\n",
        "print(b)"
      ],
      "metadata": {
        "colab": {
          "base_uri": "https://localhost:8080/"
        },
        "id": "LPmCnSnTolSQ",
        "outputId": "6ff2593c-182f-4eb6-99d7-37e541ee3b7f"
      },
      "execution_count": null,
      "outputs": [
        {
          "output_type": "stream",
          "name": "stdout",
          "text": [
            "102390\n"
          ]
        }
      ]
    },
    {
      "cell_type": "code",
      "source": [
        "a=10\n",
        "b=a\n",
        "b-=a\n",
        "print(b)"
      ],
      "metadata": {
        "colab": {
          "base_uri": "https://localhost:8080/"
        },
        "id": "eu5GT0MKoquL",
        "outputId": "f400012c-f6d3-4e5d-c580-8108cd13a337"
      },
      "execution_count": null,
      "outputs": [
        {
          "output_type": "stream",
          "name": "stdout",
          "text": [
            "0\n"
          ]
        }
      ]
    },
    {
      "cell_type": "code",
      "source": [
        "a=10\n",
        "b=a\n",
        "b<<=a\n",
        "print(b)"
      ],
      "metadata": {
        "colab": {
          "base_uri": "https://localhost:8080/"
        },
        "id": "1oNIjb07ozxV",
        "outputId": "cee66ecd-b910-4b72-f730-98e219fdf04b"
      },
      "execution_count": null,
      "outputs": [
        {
          "output_type": "stream",
          "name": "stdout",
          "text": [
            "10240\n"
          ]
        }
      ]
    },
    {
      "cell_type": "code",
      "source": [
        "a=10\n",
        "b=20\n",
        "c=a\n",
        "print(a is not b)\n",
        "print(a is c)\n",
        "print(b is c)"
      ],
      "metadata": {
        "colab": {
          "base_uri": "https://localhost:8080/"
        },
        "id": "tU3x6j15o7YJ",
        "outputId": "583370cc-2a82-488c-9452-c4a90983e434"
      },
      "execution_count": null,
      "outputs": [
        {
          "output_type": "stream",
          "name": "stdout",
          "text": [
            "True\n",
            "True\n",
            "False\n"
          ]
        }
      ]
    },
    {
      "cell_type": "code",
      "source": [
        "x=10\n",
        "y=15\n",
        "list=[10,20,30,40,50]\n",
        "if(x not in list):\n",
        "  print(\"x is not present in given list\")\n",
        "else:\n",
        "    print(\"x is present in given list\")\n",
        "if(y in list):\n",
        "      print(\"y i present in given list\")\n",
        "else:\n",
        "        print(\"y is not present in given list\")"
      ],
      "metadata": {
        "colab": {
          "base_uri": "https://localhost:8080/"
        },
        "id": "jEM-gXCSpyoM",
        "outputId": "0b92ebc9-89fd-45da-ca89-4d8e357a6730"
      },
      "execution_count": null,
      "outputs": [
        {
          "output_type": "stream",
          "name": "stdout",
          "text": [
            "x is present in given list\n",
            "y is not present in given list\n"
          ]
        }
      ]
    },
    {
      "cell_type": "code",
      "source": [
        "(1,2,3)+(2,3,4)"
      ],
      "metadata": {
        "colab": {
          "base_uri": "https://localhost:8080/"
        },
        "id": "bMYd1W67rRky",
        "outputId": "439db041-67ae-4bac-c5a6-74192e381180"
      },
      "execution_count": null,
      "outputs": [
        {
          "output_type": "execute_result",
          "data": {
            "text/plain": [
              "(1, 2, 3, 2, 3, 4)"
            ]
          },
          "metadata": {},
          "execution_count": 48
        }
      ]
    },
    {
      "cell_type": "code",
      "source": [
        "\"hiiii \"+\" akkiiii\""
      ],
      "metadata": {
        "colab": {
          "base_uri": "https://localhost:8080/",
          "height": 36
        },
        "id": "8mQSOrG5tTqQ",
        "outputId": "5f2a73fd-d852-4f26-837b-71acad3f8cbe"
      },
      "execution_count": null,
      "outputs": [
        {
          "output_type": "execute_result",
          "data": {
            "text/plain": [
              "'hiiii  akkiiii'"
            ],
            "application/vnd.google.colaboratory.intrinsic+json": {
              "type": "string"
            }
          },
          "metadata": {},
          "execution_count": 51
        }
      ]
    },
    {
      "cell_type": "code",
      "source": [
        "[1,2,3]+[2,3,4]"
      ],
      "metadata": {
        "colab": {
          "base_uri": "https://localhost:8080/"
        },
        "id": "4T7gQipFtYsX",
        "outputId": "d88d329a-46eb-4d3c-ec9f-7ab8e053b763"
      },
      "execution_count": null,
      "outputs": [
        {
          "output_type": "execute_result",
          "data": {
            "text/plain": [
              "[1, 2, 3, 2, 3, 4]"
            ]
          },
          "metadata": {},
          "execution_count": 52
        }
      ]
    },
    {
      "cell_type": "code",
      "source": [
        "age=int(input())\n",
        "if age<21:\n",
        "  print(\"you can't drive\")\n",
        "else:\n",
        "  print(\"you can drive\")\n",
        "print(\"done!\")"
      ],
      "metadata": {
        "colab": {
          "base_uri": "https://localhost:8080/"
        },
        "id": "iSB2Qa3GtuR-",
        "outputId": "b7dba650-d03d-4bfc-f8a6-8372ccec4cad"
      },
      "execution_count": null,
      "outputs": [
        {
          "output_type": "stream",
          "name": "stdout",
          "text": [
            "40\n",
            "you can drive\n",
            "done!\n"
          ]
        }
      ]
    },
    {
      "cell_type": "code",
      "source": [
        "if 5>1:\n",
        "  print(\"that's true!\")"
      ],
      "metadata": {
        "colab": {
          "base_uri": "https://localhost:8080/"
        },
        "id": "2Ar2-dymugGu",
        "outputId": "dea31678-85ef-44c3-96bf-971cc07b575f"
      },
      "execution_count": null,
      "outputs": [
        {
          "output_type": "stream",
          "name": "stdout",
          "text": [
            "that's true!\n"
          ]
        }
      ]
    },
    {
      "cell_type": "code",
      "source": [
        "x=int(input())\n",
        "if x>20:\n",
        "  print(\"above twenty,\")\n",
        "  if x>30:\n",
        "    print(\"and also above 30!\")"
      ],
      "metadata": {
        "colab": {
          "base_uri": "https://localhost:8080/"
        },
        "id": "Z8inVtcXypff",
        "outputId": "e46d08bb-9c24-44f0-a4bb-bc66359294b3"
      },
      "execution_count": null,
      "outputs": [
        {
          "output_type": "stream",
          "name": "stdout",
          "text": [
            "50\n",
            "above twenty,\n",
            "and also above 30!\n"
          ]
        }
      ]
    },
    {
      "cell_type": "code",
      "source": [
        "x=35\n",
        "if x>20:\n",
        "  print(\"above twenty,\")\n",
        "  if x>30:\n",
        "    print(\"and also above 30!\")"
      ],
      "metadata": {
        "colab": {
          "base_uri": "https://localhost:8080/"
        },
        "id": "krJxr9u0y4Xv",
        "outputId": "e687a989-7621-4f57-971f-0d6edc910f67"
      },
      "execution_count": null,
      "outputs": [
        {
          "output_type": "stream",
          "name": "stdout",
          "text": [
            "above twenty,\n",
            "and also above 30!\n"
          ]
        }
      ]
    },
    {
      "cell_type": "code",
      "source": [
        "x=10\n",
        "if x>20:\n",
        "  print(\"above twenty,\")\n",
        "  if x>30:\n",
        "    print(\"and also above 30!\")"
      ],
      "metadata": {
        "id": "_yWIROHPzD7e"
      },
      "execution_count": null,
      "outputs": []
    },
    {
      "cell_type": "code",
      "source": [
        "x=25\n",
        "if x>20:\n",
        "  print(\"above twenty,\")\n",
        "  if x>30:\n",
        "    print(\"and also above 30!\")"
      ],
      "metadata": {
        "colab": {
          "base_uri": "https://localhost:8080/"
        },
        "id": "8aIEQNaVzGAm",
        "outputId": "0379b98d-333c-4016-feb6-f597496ec34b"
      },
      "execution_count": null,
      "outputs": [
        {
          "output_type": "stream",
          "name": "stdout",
          "text": [
            "above twenty,\n"
          ]
        }
      ]
    },
    {
      "cell_type": "code",
      "source": [
        "a=33\n",
        "b=33\n",
        "if b>a:\n",
        "  print(\"b is greater than a\")\n",
        "elif a == b:\n",
        "    print(\"a and b are equal\")"
      ],
      "metadata": {
        "colab": {
          "base_uri": "https://localhost:8080/"
        },
        "id": "0qbTAL3jzIa9",
        "outputId": "f6e5ee57-5858-4cb4-a83a-96fe2ba9703c"
      },
      "execution_count": null,
      "outputs": [
        {
          "output_type": "stream",
          "name": "stdout",
          "text": [
            "a and b are equal\n"
          ]
        }
      ]
    },
    {
      "cell_type": "code",
      "source": [
        "a=200\n",
        "b=33\n",
        "if b>a:\n",
        "  print(\"b is greater\")\n",
        "elif a==b:\n",
        "  print(\"a and b are equal\")\n",
        "else:\n",
        "  print(\"a is greater\")"
      ],
      "metadata": {
        "colab": {
          "base_uri": "https://localhost:8080/"
        },
        "id": "RnqNXkrMzti3",
        "outputId": "bdb99379-e4b7-419f-892e-4f8924bd297f"
      },
      "execution_count": null,
      "outputs": [
        {
          "output_type": "stream",
          "name": "stdout",
          "text": [
            "a is greater\n"
          ]
        }
      ]
    },
    {
      "cell_type": "code",
      "source": [
        "a=200\n",
        "b=33\n",
        "if a>b:print(\"A is greater\")"
      ],
      "metadata": {
        "colab": {
          "base_uri": "https://localhost:8080/"
        },
        "id": "Gn0bcGZX0bUB",
        "outputId": "6dfeceb7-9e43-41fb-9997-947149b1bffd"
      },
      "execution_count": null,
      "outputs": [
        {
          "output_type": "stream",
          "name": "stdout",
          "text": [
            "A is greater\n"
          ]
        }
      ]
    },
    {
      "cell_type": "code",
      "source": [
        "a=2\n",
        "b=330\n",
        "print(\"A\") if a>b else print(\"B\")"
      ],
      "metadata": {
        "colab": {
          "base_uri": "https://localhost:8080/"
        },
        "id": "AAWSz3Zp0oXR",
        "outputId": "cac741f9-cd9d-4fd1-cc98-c1c789a2b3e6"
      },
      "execution_count": null,
      "outputs": [
        {
          "output_type": "stream",
          "name": "stdout",
          "text": [
            "B\n"
          ]
        }
      ]
    },
    {
      "cell_type": "code",
      "source": [
        "weight=int(input())\n",
        "height=float(input())\n",
        "x=weight/(height*height)\n",
        "print(x)\n",
        "if x<18.5:\n",
        "  print(\"underweight\")\n",
        "elif x>=18.5 and x<25:\n",
        "  print(\"normal\")\n",
        "elif x>=25 and x<30:\n",
        "  print(\"overweight\")\n",
        "else:\n",
        "  print(\"obesity\")"
      ],
      "metadata": {
        "id": "V8OdBWVR0vcA",
        "colab": {
          "base_uri": "https://localhost:8080/"
        },
        "outputId": "b0f1185a-2151-43d7-ea5e-daa2b87734c4"
      },
      "execution_count": 87,
      "outputs": [
        {
          "output_type": "stream",
          "name": "stdout",
          "text": [
            "45\n",
            "1.54\n",
            "18.974531961544947\n",
            "normal\n"
          ]
        }
      ]
    },
    {
      "cell_type": "code",
      "source": [
        ""
      ],
      "metadata": {
        "id": "K1rDoPZyIAIL"
      },
      "execution_count": null,
      "outputs": []
    }
  ]
}