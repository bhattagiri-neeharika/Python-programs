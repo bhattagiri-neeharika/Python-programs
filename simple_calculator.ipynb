{
  "nbformat": 4,
  "nbformat_minor": 0,
  "metadata": {
    "colab": {
      "provenance": []
    },
    "kernelspec": {
      "name": "python3",
      "display_name": "Python 3"
    },
    "language_info": {
      "name": "python"
    }
  },
  "cells": [
    {
      "cell_type": "markdown",
      "source": [
        "**Simple Calculator**\n"
      ],
      "metadata": {
        "id": "PWDCTjD4S-mk"
      }
    },
    {
      "cell_type": "code",
      "source": [
        "def calculator():\n",
        "  def add(a,b):\n",
        "    return a+b\n",
        "  def subtract(a,b):\n",
        "    return a-b\n",
        "  def product(a,b):\n",
        "    return a*b\n",
        "  def divide(a,b):\n",
        "    if y!=0:\n",
        "      return a/b\n",
        "    else:\n",
        "      return \"error! division by zero\"\n",
        "def calculator():\n",
        "  print(\"Simple calculator\")\n",
        "  print(\"Choose operator\")\n",
        "  print(\"1, Add\")\n",
        "  print(\"2, Subtract\")\n",
        "  print(\"3, Multiply\")\n",
        "  print(\"4, Divide\")\n",
        "\n",
        "  while True:\n",
        "    choice=input(\"Enter choice(1/2/3/4)\")\n",
        "    if choice in['1','2','3','4']:\n",
        "        num1=float(input(\"Enter first number: \"))\n",
        "        num2=float(input(\"Enter second number: \"))\n",
        "    if choice=='1':\n",
        "      print(f\"The result is:{add(num1,num2)}\")\n",
        "    elif choice=='2':\n",
        "      print(f\"The result is:{subtract(num1,num2)}\")\n",
        "    elif choice=='3':\n",
        "      print(f\"The result is:{product(num1,num2)}\")\n",
        "    elif choice=='4':\n",
        "       print(f\"The result is:{divide(num1,num2)}\")\n",
        "    next_calculation=input(\"Do you want to perform another calculation? (yes/no): \")\n",
        "    if next_calculation.lower()!='yes':\n",
        "      break\n",
        "    else:\n",
        "      print(\"Invalid input\")\n",
        "#run the calculation\n",
        "calculator()"
      ],
      "metadata": {
        "colab": {
          "base_uri": "https://localhost:8080/"
        },
        "id": "RfuVt99tTORb",
        "outputId": "d6ddc193-7537-43a3-bfd0-5be57b5680ae"
      },
      "execution_count": null,
      "outputs": [
        {
          "name": "stdout",
          "output_type": "stream",
          "text": [
            "Simple calculator\n",
            "Choose operator\n",
            "1, Add\n",
            "2, Subtract\n",
            "3, Multiply\n",
            "4, Divide\n",
            "Enter choice(1/2/3/4)3\n",
            "Enter first number: 5\n",
            "Enter second number: 8\n",
            "The result is:40.0\n",
            "Do you want to perform another calculation? (yes/no): yes\n",
            "Invalid input\n",
            "Enter choice(1/2/3/4)3\n",
            "Enter first number: 8\n",
            "Enter second number: 2\n",
            "The result is:16.0\n",
            "Do you want to perform another calculation? (yes/no): no\n"
          ]
        }
      ]
    },
    {
      "cell_type": "code",
      "source": [],
      "metadata": {
        "id": "U7pjMSD5Xz9T"
      },
      "execution_count": null,
      "outputs": []
    }
  ]
}